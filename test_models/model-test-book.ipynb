{
 "cells": [
  {
   "cell_type": "code",
   "execution_count": 3,
   "id": "5d72b251",
   "metadata": {},
   "outputs": [
    {
     "name": "stdout",
     "output_type": "stream",
     "text": [
      "numpy: 1.22.4\n",
      "pandas: 1.4.2\n",
      "tensorflow: 2.9.1\n"
     ]
    }
   ],
   "source": [
    "# !pip install numpy\n",
    "# !pip install pandas\n",
    "# !pip install tensorflow\n",
    "from datetime import datetime\n",
    "import json\n",
    "import numpy as np\n",
    "import pandas as pd\n",
    "import tensorflow as tf\n",
    "\n",
    "print(f\"numpy: {np.__version__}\\npandas: {pd.__version__}\\ntensorflow: {tf.__version__}\")"
   ]
  },
  {
   "cell_type": "code",
   "execution_count": 4,
   "id": "ec26691d",
   "metadata": {},
   "outputs": [],
   "source": [
    "# !pip install nltk\n",
    "# !pip install sklearn\n",
    "# import nltk\n",
    "# nltk.download(\"stopwords\")\n",
    "from two_class_model.TwoClass import TwoClass"
   ]
  },
  {
   "cell_type": "code",
   "execution_count": null,
   "id": "fa285125",
   "metadata": {},
   "outputs": [],
   "source": [
    "df_emails = pd.read_csv(\"enron.csv\")\n"
   ]
  },
  {
   "cell_type": "code",
   "execution_count": 6,
   "id": "fba3e7f1",
   "metadata": {},
   "outputs": [],
   "source": [
    "ml_model = TwoClass(dataframe=df_emails, y=\"responsive\")"
   ]
  },
  {
   "cell_type": "code",
   "execution_count": 7,
   "id": "9c286695",
   "metadata": {},
   "outputs": [
    {
     "name": "stdout",
     "output_type": "stream",
     "text": [
      "Epoch 1/15\n"
     ]
    },
    {
     "name": "stderr",
     "output_type": "stream",
     "text": [
      "2022-06-17 19:58:53.303039: I tensorflow/stream_executor/cuda/cuda_gpu_executor.cc:975] successful NUMA node read from SysFS had negative value (-1), but there must be at least one NUMA node, so returning NUMA node zero\n",
      "2022-06-17 19:58:53.303181: W tensorflow/stream_executor/platform/default/dso_loader.cc:64] Could not load dynamic library 'libcudart.so.11.0'; dlerror: libcudart.so.11.0: cannot open shared object file: No such file or directory\n",
      "2022-06-17 19:58:53.303205: W tensorflow/stream_executor/platform/default/dso_loader.cc:64] Could not load dynamic library 'libcublas.so.11'; dlerror: libcublas.so.11: cannot open shared object file: No such file or directory\n",
      "2022-06-17 19:58:53.303225: W tensorflow/stream_executor/platform/default/dso_loader.cc:64] Could not load dynamic library 'libcublasLt.so.11'; dlerror: libcublasLt.so.11: cannot open shared object file: No such file or directory\n",
      "2022-06-17 19:58:53.303243: W tensorflow/stream_executor/platform/default/dso_loader.cc:64] Could not load dynamic library 'libcufft.so.10'; dlerror: libcufft.so.10: cannot open shared object file: No such file or directory\n",
      "2022-06-17 19:58:53.303263: W tensorflow/stream_executor/platform/default/dso_loader.cc:64] Could not load dynamic library 'libcurand.so.10'; dlerror: libcurand.so.10: cannot open shared object file: No such file or directory\n",
      "2022-06-17 19:58:53.303282: W tensorflow/stream_executor/platform/default/dso_loader.cc:64] Could not load dynamic library 'libcusolver.so.11'; dlerror: libcusolver.so.11: cannot open shared object file: No such file or directory\n",
      "2022-06-17 19:58:53.303300: W tensorflow/stream_executor/platform/default/dso_loader.cc:64] Could not load dynamic library 'libcusparse.so.11'; dlerror: libcusparse.so.11: cannot open shared object file: No such file or directory\n",
      "2022-06-17 19:58:53.303320: W tensorflow/stream_executor/platform/default/dso_loader.cc:64] Could not load dynamic library 'libcudnn.so.8'; dlerror: libcudnn.so.8: cannot open shared object file: No such file or directory\n",
      "2022-06-17 19:58:53.303324: W tensorflow/core/common_runtime/gpu/gpu_device.cc:1850] Cannot dlopen some GPU libraries. Please make sure the missing libraries mentioned above are installed properly if you would like to use GPU. Follow the guide at https://www.tensorflow.org/install/gpu for how to download and setup the required libraries for your platform.\n",
      "Skipping registering GPU devices...\n",
      "2022-06-17 19:58:53.303540: I tensorflow/core/platform/cpu_feature_guard.cc:193] This TensorFlow binary is optimized with oneAPI Deep Neural Network Library (oneDNN) to use the following CPU instructions in performance-critical operations:  AVX2 AVX512F AVX512_VNNI FMA\n",
      "To enable them in other operations, rebuild TensorFlow with the appropriate compiler flags.\n"
     ]
    },
    {
     "name": "stdout",
     "output_type": "stream",
     "text": [
      "21/21 [==============================] - 0s 3ms/step - loss: 1.0673 - accuracy: 0.8378\n",
      "Epoch 2/15\n",
      "21/21 [==============================] - 0s 3ms/step - loss: 0.4258 - accuracy: 0.9470\n"
     ]
    }
   ],
   "source": [
    "ml_model.DeepNN_model()"
   ]
  },
  {
   "cell_type": "code",
   "execution_count": null,
   "id": "4843d9a3",
   "metadata": {},
   "outputs": [],
   "source": [
    "model_json = ml_model.saveDNNmodel()"
   ]
  },
  {
   "cell_type": "code",
   "execution_count": 11,
   "id": "037ea1a9",
   "metadata": {},
   "outputs": [],
   "source": [
    "from pathlib import Path\n",
    "cur_dir = Path.cwd()\n",
    "work_dir = cur_dir.parent\n",
    "\n",
    "with open(work_dir / \"model.json\", \"r\") as fp:\n",
    "    model_prev = json.load(fp)\n",
    "\n",
    "model1 = tf.keras.models.model_from_json(model_prev)"
   ]
  },
  {
   "cell_type": "code",
   "execution_count": 10,
   "id": "852a44fb",
   "metadata": {},
   "outputs": [
    {
     "data": {
      "text/plain": [
       "(dict, dict)"
      ]
     },
     "execution_count": 10,
     "metadata": {},
     "output_type": "execute_result"
    }
   ],
   "source": [
    "model_prev = json.loads(model_prev)\n",
    "type(model_json), type(model_prev)"
   ]
  },
  {
   "cell_type": "code",
   "execution_count": 13,
   "id": "dcda5fd5",
   "metadata": {},
   "outputs": [],
   "source": [
    "x = np.random.randint(2, size=(1, 14098))"
   ]
  },
  {
   "cell_type": "code",
   "execution_count": 48,
   "id": "f8154050",
   "metadata": {},
   "outputs": [
    {
     "data": {
      "text/plain": [
       "array([[-0.37348866]], dtype=float32)"
      ]
     },
     "execution_count": 48,
     "metadata": {},
     "output_type": "execute_result"
    }
   ],
   "source": [
    "model1.predict(x)"
   ]
  },
  {
   "cell_type": "code",
   "execution_count": 22,
   "id": "a10a6fca",
   "metadata": {},
   "outputs": [],
   "source": [
    "df=pd.DataFrame(columns=ml_model.cols_features)\n",
    "df.loc[0,:] = 0"
   ]
  },
  {
   "cell_type": "code",
   "execution_count": 23,
   "id": "d7ecb3ac",
   "metadata": {},
   "outputs": [],
   "source": [
    "for term in test_string:\n",
    "    if term in ml_model.cols_features:\n",
    "        df.loc[0, term] += 1"
   ]
  },
  {
   "cell_type": "code",
   "execution_count": 26,
   "id": "e70b85fb",
   "metadata": {},
   "outputs": [
    {
     "data": {
      "text/plain": [
       "(1, 14098)"
      ]
     },
     "execution_count": 26,
     "metadata": {},
     "output_type": "execute_result"
    }
   ],
   "source": [
    "df.values.shape"
   ]
  },
  {
   "cell_type": "code",
   "execution_count": null,
   "id": "c2cf9324",
   "metadata": {},
   "outputs": [],
   "source": [
    "x = np.random.randint(2, size=(1, 14098))\n",
    "ml_model.model.predict(x)"
   ]
  },
  {
   "cell_type": "code",
   "execution_count": null,
   "id": "0d7d24d6",
   "metadata": {},
   "outputs": [],
   "source": [
    "model1.save_weights(\"weightfile\")"
   ]
  },
  {
   "cell_type": "code",
   "execution_count": 10,
   "id": "23da569a",
   "metadata": {},
   "outputs": [
    {
     "name": "stdout",
     "output_type": "stream",
     "text": [
      "INFO:tensorflow:Assets written to: model-weights-20220617-19-12-17.hd5/assets\n"
     ]
    }
   ],
   "source": [
    "now = datetime.now()\n",
    "now_str = now.strftime(\"%Y%m%d-%H-%M-%S\")\n",
    "ml_model.model.save(f\"model-weights-{now_str}.hd5\")"
   ]
  },
  {
   "cell_type": "code",
   "execution_count": 9,
   "id": "25d220e0",
   "metadata": {},
   "outputs": [],
   "source": [
    "now = datetime.now()\n",
    "now_str = now.strftime(\"%Y%m%d-%H-%M-%S\")\n",
    "ml_model.model.save(f\"model-weights-{now_str}.h5\")"
   ]
  },
  {
   "cell_type": "code",
   "execution_count": 41,
   "id": "72fe7ba5",
   "metadata": {},
   "outputs": [],
   "source": [
    "with open(work_dir / \"test_models\" / \"model.json\", \"r\") as fp:\n",
    "    local_mdl_json = json.load(fp)\n",
    "local_mdl = tf.keras.models.model_from_json(json.dumps(local_mdl_json))"
   ]
  },
  {
   "cell_type": "code",
   "execution_count": 49,
   "id": "f3d4c178",
   "metadata": {},
   "outputs": [
    {
     "data": {
      "text/plain": [
       "array([[0.78430796]], dtype=float32)"
      ]
     },
     "execution_count": 49,
     "metadata": {},
     "output_type": "execute_result"
    }
   ],
   "source": [
    "local_mdl.predict(x)"
   ]
  },
  {
   "cell_type": "code",
   "execution_count": 5,
   "id": "3764518f",
   "metadata": {},
   "outputs": [
    {
     "name": "stderr",
     "output_type": "stream",
     "text": [
      "2022-06-17 20:09:31.276558: I tensorflow/stream_executor/cuda/cuda_gpu_executor.cc:975] successful NUMA node read from SysFS had negative value (-1), but there must be at least one NUMA node, so returning NUMA node zero\n",
      "2022-06-17 20:09:31.276690: W tensorflow/stream_executor/platform/default/dso_loader.cc:64] Could not load dynamic library 'libcudart.so.11.0'; dlerror: libcudart.so.11.0: cannot open shared object file: No such file or directory\n",
      "2022-06-17 20:09:31.276712: W tensorflow/stream_executor/platform/default/dso_loader.cc:64] Could not load dynamic library 'libcublas.so.11'; dlerror: libcublas.so.11: cannot open shared object file: No such file or directory\n",
      "2022-06-17 20:09:31.276731: W tensorflow/stream_executor/platform/default/dso_loader.cc:64] Could not load dynamic library 'libcublasLt.so.11'; dlerror: libcublasLt.so.11: cannot open shared object file: No such file or directory\n",
      "2022-06-17 20:09:31.276750: W tensorflow/stream_executor/platform/default/dso_loader.cc:64] Could not load dynamic library 'libcufft.so.10'; dlerror: libcufft.so.10: cannot open shared object file: No such file or directory\n",
      "2022-06-17 20:09:31.276768: W tensorflow/stream_executor/platform/default/dso_loader.cc:64] Could not load dynamic library 'libcurand.so.10'; dlerror: libcurand.so.10: cannot open shared object file: No such file or directory\n",
      "2022-06-17 20:09:31.276786: W tensorflow/stream_executor/platform/default/dso_loader.cc:64] Could not load dynamic library 'libcusolver.so.11'; dlerror: libcusolver.so.11: cannot open shared object file: No such file or directory\n",
      "2022-06-17 20:09:31.276804: W tensorflow/stream_executor/platform/default/dso_loader.cc:64] Could not load dynamic library 'libcusparse.so.11'; dlerror: libcusparse.so.11: cannot open shared object file: No such file or directory\n",
      "2022-06-17 20:09:31.276822: W tensorflow/stream_executor/platform/default/dso_loader.cc:64] Could not load dynamic library 'libcudnn.so.8'; dlerror: libcudnn.so.8: cannot open shared object file: No such file or directory\n",
      "2022-06-17 20:09:31.276826: W tensorflow/core/common_runtime/gpu/gpu_device.cc:1850] Cannot dlopen some GPU libraries. Please make sure the missing libraries mentioned above are installed properly if you would like to use GPU. Follow the guide at https://www.tensorflow.org/install/gpu for how to download and setup the required libraries for your platform.\n",
      "Skipping registering GPU devices...\n",
      "2022-06-17 20:09:31.277048: I tensorflow/core/platform/cpu_feature_guard.cc:193] This TensorFlow binary is optimized with oneAPI Deep Neural Network Library (oneDNN) to use the following CPU instructions in performance-critical operations:  AVX2 AVX512F AVX512_VNNI FMA\n",
      "To enable them in other operations, rebuild TensorFlow with the appropriate compiler flags.\n"
     ]
    }
   ],
   "source": [
    "local_mdl_hd5 = tf.keras.models.load_model(\"model.hd5\")"
   ]
  },
  {
   "cell_type": "code",
   "execution_count": 6,
   "id": "a50e05a8",
   "metadata": {},
   "outputs": [
    {
     "name": "stdout",
     "output_type": "stream",
     "text": [
      "Model: \"sequential\"\n",
      "_________________________________________________________________\n",
      " Layer (type)                Output Shape              Param #   \n",
      "=================================================================\n",
      " dense (Dense)               (None, 128)               1804672   \n",
      "                                                                 \n",
      " dense_1 (Dense)             (None, 64)                8256      \n",
      "                                                                 \n",
      " dense_2 (Dense)             (None, 1)                 65        \n",
      "                                                                 \n",
      "=================================================================\n",
      "Total params: 1,812,993\n",
      "Trainable params: 1,812,993\n",
      "Non-trainable params: 0\n",
      "_________________________________________________________________\n"
     ]
    }
   ],
   "source": [
    "local_mdl_hd5.summary()"
   ]
  },
  {
   "cell_type": "code",
   "execution_count": 8,
   "id": "76d2bde2",
   "metadata": {},
   "outputs": [
    {
     "name": "stdout",
     "output_type": "stream",
     "text": [
      "1/1 [==============================] - 0s 72ms/step\n"
     ]
    },
    {
     "data": {
      "text/plain": [
       "array([[-2.5637417]], dtype=float32)"
      ]
     },
     "execution_count": 8,
     "metadata": {},
     "output_type": "execute_result"
    }
   ],
   "source": [
    "local_mdl_hd5.predict(x)"
   ]
  },
  {
   "cell_type": "code",
   "execution_count": 53,
   "id": "a3756b58",
   "metadata": {},
   "outputs": [
    {
     "data": {
      "text/plain": [
       "array([[-2.6026354]], dtype=float32)"
      ]
     },
     "execution_count": 53,
     "metadata": {},
     "output_type": "execute_result"
    }
   ],
   "source": [
    "ml_model.model.predict(x)"
   ]
  },
  {
   "cell_type": "code",
   "execution_count": 54,
   "id": "154fab57",
   "metadata": {},
   "outputs": [
    {
     "data": {
      "text/plain": [
       "False"
      ]
     },
     "execution_count": 54,
     "metadata": {},
     "output_type": "execute_result"
    }
   ],
   "source": [
    "ml_model.model == local_mdl_hd5"
   ]
  },
  {
   "cell_type": "code",
   "execution_count": 12,
   "id": "83d7e1a3",
   "metadata": {},
   "outputs": [],
   "source": [
    "with open(\"feature.log\", \"w\") as fp:\n",
    "    fp.write(\" \".join(ml_model.cols_features))"
   ]
  },
  {
   "cell_type": "code",
   "execution_count": 22,
   "id": "ac375085",
   "metadata": {},
   "outputs": [
    {
     "ename": "ValueError",
     "evalue": "111 is not in list",
     "output_type": "error",
     "traceback": [
      "\u001b[0;31m---------------------------------------------------------------------------\u001b[0m",
      "\u001b[0;31mValueError\u001b[0m                                Traceback (most recent call last)",
      "\u001b[0;32m<ipython-input-22-b2cf01b36327>\u001b[0m in \u001b[0;36m<module>\u001b[0;34m\u001b[0m\n\u001b[1;32m      1\u001b[0m \u001b[0mtl\u001b[0m \u001b[0;34m=\u001b[0m \u001b[0;34m[\u001b[0m\u001b[0;36m1\u001b[0m\u001b[0;34m,\u001b[0m\u001b[0;36m5\u001b[0m\u001b[0;34m,\u001b[0m\u001b[0;36m74\u001b[0m\u001b[0;34m,\u001b[0m\u001b[0;36m5\u001b[0m\u001b[0;34m,\u001b[0m\u001b[0;36m11\u001b[0m\u001b[0;34m]\u001b[0m\u001b[0;34m\u001b[0m\u001b[0;34m\u001b[0m\u001b[0m\n\u001b[1;32m      2\u001b[0m \u001b[0;34m\u001b[0m\u001b[0m\n\u001b[0;32m----> 3\u001b[0;31m \u001b[0mtl\u001b[0m\u001b[0;34m.\u001b[0m\u001b[0mindex\u001b[0m\u001b[0;34m(\u001b[0m\u001b[0;36m111\u001b[0m\u001b[0;34m)\u001b[0m\u001b[0;34m\u001b[0m\u001b[0;34m\u001b[0m\u001b[0m\n\u001b[0m",
      "\u001b[0;31mValueError\u001b[0m: 111 is not in list"
     ]
    }
   ],
   "source": [
    "tl = [1,5,74,5,11]\n",
    "\n",
    "tl.index(111)"
   ]
  },
  {
   "cell_type": "code",
   "execution_count": 26,
   "id": "3906dfb5",
   "metadata": {},
   "outputs": [
    {
     "data": {
      "text/plain": [
       "(array([0, 1, 0, 0, 0, 1]), 0, 0, 0, 1, 0)"
      ]
     },
     "execution_count": 26,
     "metadata": {},
     "output_type": "execute_result"
    }
   ],
   "source": [
    "x[0,:6], x[0,2], x[0,3], x[0,4], x[0,5], x[0,0]"
   ]
  },
  {
   "cell_type": "code",
   "execution_count": null,
   "id": "20a7407d",
   "metadata": {},
   "outputs": [],
   "source": []
  }
 ],
 "metadata": {
  "kernelspec": {
   "display_name": "Python 3.8.10 ('venv': venv)",
   "language": "python",
   "name": "python3"
  },
  "language_info": {
   "codemirror_mode": {
    "name": "ipython",
    "version": 3
   },
   "file_extension": ".py",
   "mimetype": "text/x-python",
   "name": "python",
   "nbconvert_exporter": "python",
   "pygments_lexer": "ipython3",
   "version": "3.8.10"
  },
  "vscode": {
   "interpreter": {
    "hash": "365944f7bdedd98a2795a0c1cebbc8847004447ec345cccd588bd0f1854827a8"
   }
  }
 },
 "nbformat": 4,
 "nbformat_minor": 5
}
